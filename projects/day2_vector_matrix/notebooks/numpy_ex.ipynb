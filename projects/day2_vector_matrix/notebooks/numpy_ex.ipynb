{
 "cells": [
  {
   "cell_type": "markdown",
   "id": "be499606",
   "metadata": {},
   "source": [
    "# 📚 NumPy 기초: 효율적인 배열 연산\n",
    "\n",
    "## 🎯 학습 목표\n",
    "\n",
    "- NumPy ndarray 이해하기\n",
    "- 기본 연산과 인덱싱 마스터하기\n",
    "- 메모리 레이아웃 이해하기\n",
    "\n",
    "## 1. NumPy란?\n",
    "\n",
    "NumPy는 Python의 과학 계산 라이브러리입니다.\n",
    "C로 구현되어 있어 순수 Python보다 훨씬 빠릅니다.\n",
    "\n",
    "### 왜 NumPy인가?"
   ]
  },
  {
   "cell_type": "code",
   "execution_count": 1,
   "id": "d3341c0d",
   "metadata": {},
   "outputs": [],
   "source": [
    "# Python 리스트 (느림)\n",
    "a = [1, 2, 3, 4, 5]\n",
    "b = [6, 7, 8, 9, 10]\n",
    "c = []\n",
    "for i in range(len(a)):\n",
    "    c.append(a[i] + b[i])\n",
    "\n",
    "# NumPy 배열 (빠름)\n",
    "import numpy as np\n",
    "a = np.array([1, 2, 3, 4, 5])\n",
    "b = np.array([6, 7, 8, 9, 10])\n",
    "c = a + b  # 벡터화된 연산!\n"
   ]
  },
  {
   "cell_type": "markdown",
   "id": "7c9b9207",
   "metadata": {},
   "source": [
    "## 2. ndarray 생성\n",
    "\n",
    "### 기본 생성"
   ]
  },
  {
   "cell_type": "code",
   "execution_count": 2,
   "id": "725503be",
   "metadata": {},
   "outputs": [
    {
     "name": "stdout",
     "output_type": "stream",
     "text": [
      "[1 2 3 4]\n",
      "[[1 2]\n",
      " [3 4]]\n",
      "[[0. 0. 0. 0.]\n",
      " [0. 0. 0. 0.]\n",
      " [0. 0. 0. 0.]]\n",
      "[[1. 1. 1.]\n",
      " [1. 1. 1.]]\n",
      "[[1. 0. 0.]\n",
      " [0. 1. 0.]\n",
      " [0. 0. 1.]]\n",
      "[[ 0.88766019 -0.34217706 -0.10357645]\n",
      " [-0.42717212 -1.51345225 -0.85572691]]\n"
     ]
    }
   ],
   "source": [
    "# 리스트에서 생성\n",
    "arr = np.array([1, 2, 3, 4])\n",
    "\n",
    "# 2차원 배열\n",
    "matrix = np.array([[1, 2], \n",
    "                    [3, 4]])\n",
    "\n",
    "# 특수 배열\n",
    "zeros = np.zeros((3, 4))      # 0으로 채워진 3x4 행렬\n",
    "ones = np.ones((2, 3))        # 1로 채워진 2x3 행렬\n",
    "eye = np.eye(3)               # 3x3 단위 행렬\n",
    "random = np.random.randn(2, 3) # 랜덤 정규분포\n",
    "\n",
    "print(arr)\n",
    "print(matrix)\n",
    "print(zeros)\n",
    "print(ones)\n",
    "print(eye)\n",
    "print(random)"
   ]
  },
  {
   "cell_type": "markdown",
   "id": "a3f286a5",
   "metadata": {},
   "source": [
    "## 3. Shape과 Dimension\n",
    "\n",
    "### Shape 이해하기"
   ]
  },
  {
   "cell_type": "code",
   "execution_count": 3,
   "id": "55483461",
   "metadata": {},
   "outputs": [
    {
     "name": "stdout",
     "output_type": "stream",
     "text": [
      "[[1 2 3]\n",
      " [4 5 6]]\n",
      "(2, 3)\n",
      "[[1 2]\n",
      " [3 4]\n",
      " [5 6]]\n",
      "[1 2 3 4 5 6]\n",
      ">> [[[1]\n",
      "  [2]\n",
      "  [3]]\n",
      "\n",
      " [[4]\n",
      "  [5]\n",
      "  [6]]]\n",
      ">> [[[1]\n",
      "  [2]\n",
      "  [3]]\n",
      "\n",
      " [[4]\n",
      "  [5]\n",
      "  [6]]]\n"
     ]
    }
   ],
   "source": [
    "# Shape: 각 차원의 크기\n",
    "arr = np.array([[1, 2, 3],\n",
    "                 [4, 5, 6]])\n",
    "print(arr)\n",
    "print(arr.shape)  # (2, 3) - 2행 3열\n",
    "\n",
    "# Reshape\n",
    "reshaped = arr.reshape(3, 2)  # 3행 2열로 변경\n",
    "flattened = arr.flatten()     # 1차원으로 평탄화\n",
    "\n",
    "print(reshaped)\n",
    "print(flattened)\n",
    "\n",
    "# 차원 추가\n",
    "expanded = arr[:, :, np.newaxis]  # (2, 3, 1)\n",
    "print(\">>\", expanded)\n",
    "# 또는\n",
    "expanded = np.expand_dims(arr, axis=2)\n",
    "print(\">>\", expanded)"
   ]
  },
  {
   "cell_type": "code",
   "execution_count": 4,
   "id": "f0bacd61",
   "metadata": {},
   "outputs": [
    {
     "name": "stdout",
     "output_type": "stream",
     "text": [
      "[[1.1 2.2 3.3]\n",
      " [4.1 5.2 6.3]]\n",
      "(2, 3, 1)\n",
      "[[[1.1 1.2 1.3]\n",
      "  [2.1 2.2 2.3]\n",
      "  [3.1 3.2 3.3]]\n",
      "\n",
      " [[4.1 4.2 4.3]\n",
      "  [5.1 5.2 5.3]\n",
      "  [6.1 6.2 6.3]]]\n"
     ]
    }
   ],
   "source": [
    "import numpy as np\n",
    "\n",
    "# 2차원 배열: (2, 3)\n",
    "arr = [[1, 2, 3],\n",
    "       [4, 5, 6]]\n",
    "\n",
    "arr_np = np.array(arr)\n",
    "\n",
    "# 1차원 배열: (3,)\n",
    "bias = [0.1, 0.2, 0.3]\n",
    "\n",
    "# 차원이 맞지 않아 연산 불가\n",
    "result = arr_np + bias  # 에러!\n",
    "print(result)\n",
    "\n",
    "# 3차원으로 만들어서 연산 가능: (2, 3, 1) + (3,)\n",
    "arr_3d = arr_np[:, :, np.newaxis]\n",
    "print(arr_3d.shape)\n",
    "result = arr_3d + bias  # 브로드캐스팅으로 연산 가능\n",
    "print(result)\n"
   ]
  },
  {
   "cell_type": "markdown",
   "id": "05a22d77",
   "metadata": {},
   "source": [
    "## 4. 인덱싱과 슬라이싱\n",
    "\n",
    "### 기본 인덱싱"
   ]
  },
  {
   "cell_type": "code",
   "execution_count": 5,
   "id": "31ce910c",
   "metadata": {},
   "outputs": [
    {
     "name": "stdout",
     "output_type": "stream",
     "text": [
      "2\n",
      "[4 5 6]\n",
      "[1 4 7]\n",
      "[[2 3]\n",
      " [5 6]]\n"
     ]
    }
   ],
   "source": [
    "arr = np.array([[1, 2, 3],\n",
    "                 [4, 5, 6],\n",
    "                 [7, 8, 9]])\n",
    "\n",
    "# 단일 요소\n",
    "print(arr[0, 1])  # 2\n",
    "\n",
    "# 행 선택\n",
    "print(arr[1, :])  # [4, 5, 6]\n",
    "\n",
    "# 열 선택\n",
    "print(arr[:, 0])  # [1, 4, 7]\n",
    "\n",
    "# 부분 선택\n",
    "print(arr[:2, 1:])  # [[2, 3], [5, 6]]"
   ]
  },
  {
   "cell_type": "markdown",
   "id": "abb9e9cd",
   "metadata": {},
   "source": [
    "고급 인덱싱"
   ]
  },
  {
   "cell_type": "code",
   "execution_count": 6,
   "id": "aab0b146",
   "metadata": {},
   "outputs": [
    {
     "name": "stdout",
     "output_type": "stream",
     "text": [
      "[6 7 8 9]\n",
      "[[1 2 3]\n",
      " [7 8 9]]\n"
     ]
    }
   ],
   "source": [
    "# Boolean 인덱싱\n",
    "mask = arr > 5\n",
    "print(arr[mask])  # [6, 7, 8, 9]\n",
    "\n",
    "# Fancy 인덱싱\n",
    "indices = [0, 2]\n",
    "print(arr[indices])  # [[1, 2, 3], [7, 8, 9]]"
   ]
  },
  {
   "cell_type": "markdown",
   "id": "cc4982e5",
   "metadata": {},
   "source": [
    "## 5. 기본 연산\n",
    "\n",
    "### 요소별 연산"
   ]
  },
  {
   "cell_type": "code",
   "execution_count": 7,
   "id": "cacb9294",
   "metadata": {},
   "outputs": [
    {
     "name": "stdout",
     "output_type": "stream",
     "text": [
      "[5 7 9]\n",
      "[ 4 10 18]\n",
      "[1 4 9]\n",
      "[False False  True]\n"
     ]
    }
   ],
   "source": [
    "a = np.array([1, 2, 3])\n",
    "b = np.array([4, 5, 6])\n",
    "\n",
    "# 산술 연산\n",
    "print(a + b)  # [5, 7, 9]\n",
    "print(a * b)  # [4, 10, 18]\n",
    "print(a ** 2) # [1, 4, 9]\n",
    "\n",
    "# 비교 연산\n",
    "print(a > 2)  # [False, False, True]"
   ]
  },
  {
   "cell_type": "code",
   "execution_count": 9,
   "id": "20c86d95",
   "metadata": {},
   "outputs": [
    {
     "name": "stdout",
     "output_type": "stream",
     "text": [
      "21\n",
      "[5 7 9]\n",
      "[ 6 15]\n",
      "3.5\n",
      "1.707825127659933\n",
      "6\n",
      "5\n",
      "4\n"
     ]
    }
   ],
   "source": [
    "arr = np.array([[1, 2, 3],\n",
    "                 [4, 5, 6]])\n",
    "\n",
    "print(np.sum(arr))      # 21 (전체 합)\n",
    "print(np.sum(arr, axis=0))  # [5, 7, 9] (열 합)\n",
    "print(np.sum(arr, axis=1))  # [6, 15] (행 합)\n",
    "\n",
    "print(np.mean(arr))     # 3.5\n",
    "print(np.std(arr))      # 표준편차\n",
    "print(np.max(arr))      # 6\n",
    "print(np.argmax(arr))   # 5 (최대값 인덱스)\n",
    "\n",
    "arr1 = [3, 1, 4, 1, 5]\n",
    "print(np.argmax(arr1))  # 4 (5가 최대값, 인덱스 4)"
   ]
  },
  {
   "cell_type": "markdown",
   "id": "f715e666",
   "metadata": {},
   "source": [
    "## 6. 행렬 연산\n",
    "\n",
    "### 행렬곱, 전치(Transpose)"
   ]
  },
  {
   "cell_type": "code",
   "execution_count": 12,
   "id": "ec1a1ce6",
   "metadata": {},
   "outputs": [
    {
     "name": "stdout",
     "output_type": "stream",
     "text": [
      "[[19 22]\n",
      " [43 50]]\n",
      "(2, 3)\n",
      "(3, 2)\n"
     ]
    }
   ],
   "source": [
    "A = np.array([[1, 2],\n",
    "              [3, 4]])\n",
    "B = np.array([[5, 6],\n",
    "              [7, 8]])\n",
    "\n",
    "# 행렬곱 (dot product)\n",
    "C = np.dot(A, B)\n",
    "# 또는\n",
    "C = A @ B  # Python 3.5+\n",
    "\n",
    "print(C)  # [[19, 22], [43, 50]]\n",
    "\n",
    "# 요소별 곱셈과 구분!\n",
    "D = A * B  # [[5, 12], [21, 32]]\n",
    "\n",
    "A = np.array([[1, 2, 3],\n",
    "              [4, 5, 6]])\n",
    "\n",
    "A_T = A.T\n",
    "print(A.shape)\n",
    "print(A_T.shape)  # (3, 2)"
   ]
  },
  {
   "cell_type": "markdown",
   "id": "4d14a650",
   "metadata": {},
   "source": [
    "## 7. 메모리와 성능\n",
    "\n",
    "### View vs Copy"
   ]
  },
  {
   "cell_type": "code",
   "execution_count": 14,
   "id": "cbe9a7ea",
   "metadata": {},
   "outputs": [
    {
     "name": "stdout",
     "output_type": "stream",
     "text": [
      "[2 3]\n",
      "[  1 100   3   4]\n",
      "[  1 100   3   4]\n"
     ]
    }
   ],
   "source": [
    "# View (메모리 공유)\n",
    "arr = np.array([1, 2, 3, 4])\n",
    "view = arr[1:3]\n",
    "print(view)\n",
    "view[0] = 100\n",
    "print(arr)  # [1, 100, 3, 4] - 원본도 변경됨!\n",
    "\n",
    "# Copy (별도 메모리)\n",
    "copy = arr[1:3].copy()\n",
    "copy[0] = 200\n",
    "print(arr)  # [1, 100, 3, 4] - 원본 유지"
   ]
  },
  {
   "cell_type": "markdown",
   "id": "f397d31b",
   "metadata": {},
   "source": [
    "Contiguous 메모리"
   ]
  },
  {
   "cell_type": "code",
   "execution_count": 15,
   "id": "e2b5737a",
   "metadata": {},
   "outputs": [
    {
     "name": "stdout",
     "output_type": "stream",
     "text": [
      "True\n"
     ]
    }
   ],
   "source": [
    "# C-contiguous (행 우선)\n",
    "arr_c = np.array([[1, 2, 3],\n",
    "                  [4, 5, 6]], order='C')\n",
    "\n",
    "# Fortran-contiguous (열 우선)\n",
    "arr_f = np.array([[1, 2, 3],\n",
    "                  [4, 5, 6]], order='F')\n",
    "\n",
    "# 성능에 영향을 줌\n",
    "print(arr_c.flags['C_CONTIGUOUS'])  # True"
   ]
  },
  {
   "cell_type": "markdown",
   "id": "4c84bce2",
   "metadata": {},
   "source": [
    "8. 실전 예제: 간단한 신경망 레이어"
   ]
  },
  {
   "cell_type": "code",
   "execution_count": 16,
   "id": "a2c65a65",
   "metadata": {},
   "outputs": [
    {
     "name": "stdout",
     "output_type": "stream",
     "text": [
      "출력 shape: (32, 128)\n"
     ]
    }
   ],
   "source": [
    "def linear_forward(X, W, b):\n",
    "    \"\"\"\n",
    "    선형 레이어의 순전파\n",
    "    X: (batch_size, input_dim)\n",
    "    W: (input_dim, output_dim)\n",
    "    b: (output_dim,)\n",
    "    \"\"\"\n",
    "    Z = X @ W + b  # Broadcasting 자동 적용\n",
    "    return Z\n",
    "\n",
    "def relu(Z):\n",
    "    \"\"\"ReLU 활성화 함수\"\"\"\n",
    "    return np.maximum(0, Z)\n",
    "\n",
    "# 사용 예\n",
    "batch_size = 32\n",
    "input_dim = 784\n",
    "output_dim = 128\n",
    "\n",
    "X = np.random.randn(batch_size, input_dim)\n",
    "W = np.random.randn(input_dim, output_dim) * 0.01\n",
    "b = np.zeros(output_dim)\n",
    "\n",
    "Z = linear_forward(X, W, b)\n",
    "A = relu(Z)\n",
    "print(f\"출력 shape: {A.shape}\")  # (32, 128)"
   ]
  },
  {
   "cell_type": "code",
   "execution_count": 17,
   "id": "0c63f2b9",
   "metadata": {},
   "outputs": [
    {
     "name": "stdout",
     "output_type": "stream",
     "text": [
      "Array 0: shape=(32, 784), dtype=float64\n",
      "Array 1: shape=(784, 128), dtype=float64\n",
      "Array 2: shape=(128,), dtype=float64\n"
     ]
    }
   ],
   "source": [
    "# Shape 확인은 필수!\n",
    "def debug_shapes(*arrays):\n",
    "    for i, arr in enumerate(arrays):\n",
    "        print(f\"Array {i}: shape={arr.shape}, dtype={arr.dtype}\")\n",
    "\n",
    "# 연산 전 shape 확인\n",
    "debug_shapes(X, W, b)"
   ]
  }
 ],
 "metadata": {
  "kernelspec": {
   "display_name": "ai",
   "language": "python",
   "name": "python3"
  },
  "language_info": {
   "codemirror_mode": {
    "name": "ipython",
    "version": 3
   },
   "file_extension": ".py",
   "mimetype": "text/x-python",
   "name": "python",
   "nbconvert_exporter": "python",
   "pygments_lexer": "ipython3",
   "version": "3.11.7"
  }
 },
 "nbformat": 4,
 "nbformat_minor": 5
}
