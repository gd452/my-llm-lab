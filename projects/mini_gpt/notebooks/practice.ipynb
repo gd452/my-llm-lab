{
 "cells": [
  {
   "cell_type": "code",
   "execution_count": 1,
   "id": "de116a3d",
   "metadata": {},
   "outputs": [],
   "source": [
    "import torch\n",
    "import torch.nn as nn\n",
    "import torch.nn.functional as F\n",
    "import numpy as np\n",
    "import matplotlib.pyplot as plt\n",
    "\n",
    "# 시드 고정\n",
    "torch.manual_seed(42)\n",
    "np.random.seed(42)"
   ]
  },
  {
   "cell_type": "code",
   "execution_count": 13,
   "id": "3c7a7e60",
   "metadata": {},
   "outputs": [
    {
     "name": "stdout",
     "output_type": "stream",
     "text": [
      "선택된 시작 위치: tensor([ 1, 10])\n",
      "입력 x: tensor([[ 2,  3,  4,  5],\n",
      "        [11, 12, 13, 14]])\n",
      "타겟 y: tensor([[ 3,  4,  5,  6],\n",
      "        [12, 13, 14, 15]])\n"
     ]
    }
   ],
   "source": [
    "# 가상의 데이터\n",
    "data = torch.tensor([1, 2, 3, 4, 5, 6, 7, 8, 9, 10, 11, 12, 13, 14, 15])\n",
    "block_size = 4\n",
    "batch_size = 2\n",
    "\n",
    "# 랜덤 시작 위치 선택\n",
    "ix = torch.randint(len(data) - block_size, (batch_size,))\n",
    "print(f\"선택된 시작 위치: {ix}\")  # 예: tensor([3, 8])\n",
    "\n",
    "# 입력과 타겟 생성\n",
    "x = torch.stack([data[i:i+block_size] for i in ix])\n",
    "y = torch.stack([data[i+1:i+block_size+1] for i in ix])\n",
    "\n",
    "print(f\"입력 x: {x}\")\n",
    "print(f\"타겟 y: {y}\")"
   ]
  }
 ],
 "metadata": {
  "kernelspec": {
   "display_name": "ai",
   "language": "python",
   "name": "python3"
  },
  "language_info": {
   "codemirror_mode": {
    "name": "ipython",
    "version": 3
   },
   "file_extension": ".py",
   "mimetype": "text/x-python",
   "name": "python",
   "nbconvert_exporter": "python",
   "pygments_lexer": "ipython3",
   "version": "3.11.7"
  }
 },
 "nbformat": 4,
 "nbformat_minor": 5
}
