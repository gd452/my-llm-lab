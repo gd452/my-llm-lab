{
 "cells": [
  {
   "cell_type": "markdown",
   "metadata": {},
   "source": [
    "# 01. Understanding Self-Attention - GPT의 핵심\n",
    "\n",
    "이 노트북에서는 GPT의 가장 중요한 컴포넌트인 **Self-Attention**을 단계별로 이해합니다.\n",
    "\n",
    "## 목표\n",
    "- Attention이 왜 필요한지 이해\n",
    "- Query, Key, Value의 의미 파악\n",
    "- 실제로 어떻게 계산되는지 확인"
   ]
  },
  {
   "cell_type": "code",
   "execution_count": 2,
   "metadata": {},
   "outputs": [],
   "source": [
    "import torch\n",
    "import torch.nn as nn\n",
    "import torch.nn.functional as F\n",
    "import numpy as np\n",
    "import matplotlib.pyplot as plt\n",
    "\n",
    "# 시드 고정\n",
    "torch.manual_seed(42)\n",
    "np.random.seed(42)"
   ]
  },
  {
   "cell_type": "markdown",
   "metadata": {},
   "source": [
    "## 1. 왜 Attention이 필요한가?\n",
    "\n",
    "문장: \"The cat sat on the mat\"\n",
    "\n",
    "- \"it\"이 나왔을 때 \"cat\"을 참조해야 함\n",
    "- \"mat\"이 나왔을 때 \"on\"과의 관계를 이해해야 함\n",
    "\n",
    "**Attention = 각 단어가 다른 단어들을 얼마나 '주목'하는지 학습**"
   ]
  },
  {
   "cell_type": "code",
   "execution_count": 12,
   "metadata": {},
   "outputs": [
    {
     "name": "stdout",
     "output_type": "stream",
     "text": [
      "입력 shape: torch.Size([1, 4, 8])\n",
      "각 토큰은 8차원 벡터로 표현됨\n"
     ]
    }
   ],
   "source": [
    "# 간단한 예시: 4개 토큰의 임베딩\n",
    "B = 1  # batch size\n",
    "T = 4  # sequence length (\"The cat sat on\")\n",
    "C = 8  # embedding dimension\n",
    "\n",
    "# 랜덤 임베딩 (실제로는 학습된 값)\n",
    "x = torch.randn(B, T, C)\n",
    "print(f\"입력 shape: {x.shape}\")  # (1, 4, 8)\n",
    "print(f\"각 토큰은 {C}차원 벡터로 표현됨\")"
   ]
  },
  {
   "cell_type": "markdown",
   "metadata": {},
   "source": [
    "## 2. Query, Key, Value란?\n",
    "\n",
    "각 토큰을 3가지 관점으로 변환:\n",
    "- **Query (Q)**: \"나는 무엇을 찾고 있나?\"\n",
    "- **Key (K)**: \"나는 무엇을 제공하나?\"\n",
    "- **Value (V)**: \"실제로 전달할 정보\""
   ]
  },
  {
   "cell_type": "code",
   "execution_count": 13,
   "metadata": {},
   "outputs": [
    {
     "name": "stdout",
     "output_type": "stream",
     "text": [
      "Query shape: torch.Size([1, 4, 8])\n",
      "Key shape: torch.Size([1, 4, 8])\n",
      "Value shape: torch.Size([1, 4, 8])\n"
     ]
    }
   ],
   "source": [
    "# Q, K, V 변환 행렬\n",
    "head_size = 8\n",
    "key = nn.Linear(C, head_size, bias=False)\n",
    "query = nn.Linear(C, head_size, bias=False)\n",
    "value = nn.Linear(C, head_size, bias=False)\n",
    "\n",
    "# 변환\n",
    "k = key(x)    # (B, T, head_size)\n",
    "q = query(x)  # (B, T, head_size)\n",
    "v = value(x)  # (B, T, head_size)\n",
    "\n",
    "print(f\"Query shape: {q.shape}\")\n",
    "print(f\"Key shape: {k.shape}\")\n",
    "print(f\"Value shape: {v.shape}\")\n"
   ]
  },
  {
   "cell_type": "markdown",
   "metadata": {},
   "source": [
    "## 3. Attention Score 계산\n",
    "\n",
    "**핵심**: Query와 Key의 내적 = 얼마나 관련있는지"
   ]
  },
  {
   "cell_type": "code",
   "execution_count": 14,
   "metadata": {},
   "outputs": [
    {
     "name": "stdout",
     "output_type": "stream",
     "text": [
      "Attention scores shape: torch.Size([1, 4, 4])\n",
      "각 토큰이 다른 모든 토큰과의 관계: 4x4 행렬\n"
     ]
    },
    {
     "data": {
      "image/png": "[encoded data removed]",
      "text/plain": [
       "<Figure size 600x500 with 2 Axes>"
      ]
     },
     "metadata": {},
     "output_type": "display_data"
    }
   ],
   "source": [
    "# Attention scores: Q @ K^T\n",
    "scores = q @ k.transpose(-2, -1)  # (B, T, T)\n",
    "print(f\"Attention scores shape: {scores.shape}\")\n",
    "print(f\"각 토큰이 다른 모든 토큰과의 관계: {T}x{T} 행렬\")\n",
    "\n",
    "# 시각화\n",
    "plt.figure(figsize=(6, 5))\n",
    "plt.imshow(scores[0].detach().numpy(), cmap='Blues')\n",
    "plt.colorbar()\n",
    "plt.xlabel('Key (being attended to)')\n",
    "plt.ylabel('Query (attending from)')\n",
    "plt.title('Raw Attention Scores')\n",
    "tokens = ['The', 'cat', 'sat', 'on']\n",
    "plt.xticks(range(4), tokens)\n",
    "plt.yticks(range(4), tokens)\n",
    "plt.show()"
   ]
  },
  {
   "cell_type": "markdown",
   "metadata": {},
   "source": [
    "## 4. Scaled Dot-Product Attention\n",
    "\n",
    "스케일링이 필요한 이유: 내적값이 너무 크면 softmax가 saturate됨"
   ]
  },
  {
   "cell_type": "code",
   "execution_count": 15,
   "metadata": {},
   "outputs": [
    {
     "name": "stdout",
     "output_type": "stream",
     "text": [
      "스케일링 전 범위: [-2.66, 3.40]\n",
      "스케일링 후 범위: [-0.94, 1.20]\n",
      "scores_scaled:  torch.Size([1, 4, 4])\n",
      "\n",
      "Attention weights shape: torch.Size([1, 4, 4])\n",
      "각 행의 합: tensor([1.0000, 1.0000, 1.0000, 1.0000], grad_fn=<SumBackward1>)\n"
     ]
    }
   ],
   "source": [
    "# 스케일링\n",
    "scores_scaled = scores / np.sqrt(head_size)\n",
    "print(f\"스케일링 전 범위: [{scores.min():.2f}, {scores.max():.2f}]\")\n",
    "print(f\"스케일링 후 범위: [{scores_scaled.min():.2f}, {scores_scaled.max():.2f}]\")\n",
    "print(\"scores_scaled: \", scores_scaled.shape)\n",
    "\n",
    "# Softmax로 확률로 변환\n",
    "attention_weights = F.softmax(scores_scaled, dim=-1)\n",
    "print(f\"\\nAttention weights shape: {attention_weights.shape}\")\n",
    "print(f\"각 행의 합: {attention_weights[0].sum(dim=-1)}\")  # 모두 1.0"
   ]
  },
  {
   "cell_type": "markdown",
   "metadata": {},
   "source": [
    "## 5. Causal Masking (GPT의 핵심)\n",
    "\n",
    "**미래를 볼 수 없게 마스킹** - autoregressive 생성을 위해 필수"
   ]
  },
  {
   "cell_type": "code",
   "execution_count": 16,
   "metadata": {},
   "outputs": [
    {
     "name": "stdout",
     "output_type": "stream",
     "text": [
      "Causal mask:\n",
      "tensor([[1., 0., 0., 0.],\n",
      "        [1., 1., 0., 0.],\n",
      "        [1., 1., 1., 0.],\n",
      "        [1., 1., 1., 1.]])\n",
      "tril.shape:  torch.Size([4, 4])\n"
     ]
    },
    {
     "data": {
      "image/png": "[encoded data removed]",
      "text/plain": [
       "<Figure size 1200x500 with 4 Axes>"
      ]
     },
     "metadata": {},
     "output_type": "display_data"
    },
    {
     "name": "stdout",
     "output_type": "stream",
     "text": [
      "\n",
      "주목할 점:\n",
      "- 'The'는 자기 자신만 볼 수 있음 (첫 번째)\n",
      "- 'cat'은 'The'와 자신을 볼 수 있음\n",
      "- 'sat'은 'The', 'cat', 자신을 볼 수 있음\n",
      "- 'on'은 모든 이전 토큰을 볼 수 있음\n"
     ]
    }
   ],
   "source": [
    "# 하삼각 마스크 생성\n",
    "tril = torch.tril(torch.ones(T, T))\n",
    "print(\"Causal mask:\")\n",
    "print(tril)\n",
    "print(\"tril.shape: \", tril.shape)\n",
    "\n",
    "# 마스킹 적용 (미래 위치는 -inf로)\n",
    "scores_masked = scores_scaled.masked_fill(tril == 0, float('-inf'))\n",
    "\n",
    "# Softmax 후 확인\n",
    "attention_weights_masked = F.softmax(scores_masked, dim=-1)\n",
    "\n",
    "# 시각화\n",
    "fig, (ax1, ax2) = plt.subplots(1, 2, figsize=(12, 5))\n",
    "\n",
    "# 마스킹 전\n",
    "im1 = ax1.imshow(attention_weights[0].detach().numpy(), cmap='Blues', vmin=0, vmax=1)\n",
    "ax1.set_title('Without Causal Mask')\n",
    "ax1.set_xlabel('Key')\n",
    "ax1.set_ylabel('Query')\n",
    "ax1.set_xticks(range(4))\n",
    "ax1.set_xticklabels(tokens)\n",
    "ax1.set_yticks(range(4))\n",
    "ax1.set_yticklabels(tokens)\n",
    "plt.colorbar(im1, ax=ax1)\n",
    "\n",
    "# 마스킹 후\n",
    "im2 = ax2.imshow(attention_weights_masked[0].detach().numpy(), cmap='Blues', vmin=0, vmax=1)\n",
    "ax2.set_title('With Causal Mask (GPT style)')\n",
    "ax2.set_xlabel('Key')\n",
    "ax2.set_ylabel('Query')\n",
    "ax2.set_xticks(range(4))\n",
    "ax2.set_xticklabels(tokens)\n",
    "ax2.set_yticks(range(4))\n",
    "ax2.set_yticklabels(tokens)\n",
    "plt.colorbar(im2, ax=ax2)\n",
    "\n",
    "plt.tight_layout()\n",
    "plt.show()\n",
    "\n",
    "print(\"\\n주목할 점:\")\n",
    "print(\"- 'The'는 자기 자신만 볼 수 있음 (첫 번째)\")\n",
    "print(\"- 'cat'은 'The'와 자신을 볼 수 있음\")\n",
    "print(\"- 'sat'은 'The', 'cat', 자신을 볼 수 있음\")\n",
    "print(\"- 'on'은 모든 이전 토큰을 볼 수 있음\")"
   ]
  },
  {
   "cell_type": "markdown",
   "metadata": {},
   "source": [
    "## 6. Value 집계 - 최종 출력\n",
    "\n",
    "Attention weights를 사용해 Value를 가중 평균"
   ]
  },
  {
   "cell_type": "code",
   "execution_count": 18,
   "metadata": {},
   "outputs": [
    {
     "name": "stdout",
     "output_type": "stream",
     "text": [
      "attention_weights_masked:  torch.Size([1, 4, 4])\n",
      "v:  torch.Size([1, 4, 8])\n",
      "출력 shape: torch.Size([1, 4, 8])\n",
      "각 토큰이 관련 정보를 집계한 새로운 표현\n"
     ]
    }
   ],
   "source": [
    "# Value와 attention weights의 곱\n",
    "print(\"attention_weights_masked: \", attention_weights_masked.shape)\n",
    "print(\"v: \", v.shape)\n",
    "out = attention_weights_masked @ v  # (B, T, head_size)\n",
    "print(f\"출력 shape: {out.shape}\")\n",
    "print(f\"각 토큰이 관련 정보를 집계한 새로운 표현\")"
   ]
  },
  {
   "cell_type": "markdown",
   "metadata": {},
   "source": [
    "## 7. 전체 Self-Attention 클래스"
   ]
  },
  {
   "cell_type": "code",
   "execution_count": 19,
   "metadata": {},
   "outputs": [
    {
     "name": "stdout",
     "output_type": "stream",
     "text": [
      "Self-Attention 출력: torch.Size([1, 4, 8])\n"
     ]
    }
   ],
   "source": [
    "class SelfAttention(nn.Module):\n",
    "    def __init__(self, embed_size, head_size):\n",
    "        super().__init__()\n",
    "        self.head_size = head_size\n",
    "        self.key = nn.Linear(embed_size, head_size, bias=False)\n",
    "        self.query = nn.Linear(embed_size, head_size, bias=False)\n",
    "        self.value = nn.Linear(embed_size, head_size, bias=False)\n",
    "        \n",
    "    def forward(self, x):\n",
    "        B, T, C = x.shape\n",
    "        \n",
    "        # Q, K, V 계산\n",
    "        k = self.key(x)\n",
    "        q = self.query(x)\n",
    "        v = self.value(x)\n",
    "        \n",
    "        # Attention scores\n",
    "        scores = q @ k.transpose(-2, -1) * self.head_size**-0.5\n",
    "        \n",
    "        # Causal mask\n",
    "        tril = torch.tril(torch.ones(T, T))\n",
    "        scores = scores.masked_fill(tril == 0, float('-inf'))\n",
    "        \n",
    "        # Softmax\n",
    "        att_weights = F.softmax(scores, dim=-1)\n",
    "        \n",
    "        # Value 집계\n",
    "        out = att_weights @ v\n",
    "        \n",
    "        return out, att_weights\n",
    "\n",
    "# 테스트\n",
    "attention = SelfAttention(embed_size=8, head_size=8)\n",
    "output, weights = attention(x)\n",
    "print(f\"Self-Attention 출력: {output.shape}\")"
   ]
  },
  {
   "cell_type": "code",
   "execution_count": 23,
   "metadata": {},
   "outputs": [
    {
     "name": "stdout",
     "output_type": "stream",
     "text": [
      "Attention에서의 가중 평균:\n",
      "Attention Weights (가중치):\n",
      "tensor([[0.8000, 0.2000],\n",
      "        [0.3000, 0.7000]])\n",
      "\n",
      "Value (값):\n",
      "tensor([[1., 0., 0.],\n",
      "        [0., 1., 0.]])\n",
      "\n",
      "결과 (out = att_weights @ v):\n",
      "tensor([[0.8000, 0.2000, 0.0000],\n",
      "        [0.3000, 0.7000, 0.0000]])\n",
      "\n",
      "각 행의 계산:\n",
      "out[0] = 0.800000011920929*tensor([1., 0., 0.]) + 0.20000000298023224*tensor([0., 1., 0.]) = tensor([0.8000, 0.2000, 0.0000])\n",
      "out[1] = 0.30000001192092896*tensor([1., 0., 0.]) + 0.699999988079071*tensor([0., 1., 0.]) = tensor([0.3000, 0.7000, 0.0000])\n",
      "\n",
      "이것이 바로 가중 평균!\n"
     ]
    }
   ],
   "source": [
    "def attention_weighted_average():\n",
    "    print(\"Attention에서의 가중 평균:\")\n",
    "    \n",
    "    # 가상의 attention weights (가중치)\n",
    "    att_weights = torch.tensor([\n",
    "        [0.8, 0.2],  # 첫 번째 토큰의 attention weights\n",
    "        [0.3, 0.7]   # 두 번째 토큰의 attention weights\n",
    "    ])\n",
    "    \n",
    "    # 가상의 value (값)\n",
    "    v = torch.tensor([\n",
    "        [1.0, 0.0, 0.0],  # 첫 번째 토큰의 value\n",
    "        [0.0, 1.0, 0.0]   # 두 번째 토큰의 value\n",
    "    ])\n",
    "    \n",
    "    print(f\"Attention Weights (가중치):\")\n",
    "    print(att_weights)\n",
    "    print(f\"\\nValue (값):\")\n",
    "    print(v)\n",
    "    \n",
    "    # 행렬 곱셈\n",
    "    out = att_weights @ v\n",
    "    print(f\"\\n결과 (out = att_weights @ v):\")\n",
    "    print(out)\n",
    "    \n",
    "    print(f\"\\n각 행의 계산:\")\n",
    "    print(f\"out[0] = {att_weights[0][0]}*{v[0]} + {att_weights[0][1]}*{v[1]} = {out[0]}\")\n",
    "    print(f\"out[1] = {att_weights[1][0]}*{v[0]} + {att_weights[1][1]}*{v[1]} = {out[1]}\")\n",
    "    \n",
    "    print(f\"\\n이것이 바로 가중 평균!\")\n",
    "\n",
    "attention_weighted_average()"
   ]
  },
  {
   "cell_type": "markdown",
   "metadata": {},
   "source": [
    "## 8. Multi-Head Attention\n",
    "\n",
    "여러 개의 attention head = 다양한 관점에서 관계 학습"
   ]
  },
  {
   "cell_type": "code",
   "execution_count": 20,
   "metadata": {},
   "outputs": [
    {
     "name": "stdout",
     "output_type": "stream",
     "text": [
      "Multi-Head Attention 출력: torch.Size([1, 4, 8])\n",
      "Head 개수: 4\n",
      "각 head는 다른 패턴을 학습함\n"
     ]
    }
   ],
   "source": [
    "class MultiHeadAttention(nn.Module):\n",
    "    def __init__(self, embed_size, num_heads):\n",
    "        super().__init__()\n",
    "        self.num_heads = num_heads\n",
    "        self.head_size = embed_size // num_heads\n",
    "        \n",
    "        # 여러 개의 attention head\n",
    "        self.heads = nn.ModuleList([\n",
    "            SelfAttention(embed_size, self.head_size) \n",
    "            for _ in range(num_heads)\n",
    "        ])\n",
    "        \n",
    "        # 출력 projection\n",
    "        self.proj = nn.Linear(embed_size, embed_size)\n",
    "        \n",
    "    def forward(self, x):\n",
    "        # 각 head의 출력을 연결\n",
    "        head_outputs = []\n",
    "        attention_weights = []\n",
    "        \n",
    "        for head in self.heads:\n",
    "            out, att = head(x)\n",
    "            head_outputs.append(out)\n",
    "            attention_weights.append(att)\n",
    "        \n",
    "        # Concatenate\n",
    "        out = torch.cat(head_outputs, dim=-1)\n",
    "        out = self.proj(out)\n",
    "        \n",
    "        return out, attention_weights\n",
    "\n",
    "# 4개 head 사용\n",
    "mha = MultiHeadAttention(embed_size=8, num_heads=4)\n",
    "mha_output, mha_weights = mha(x)\n",
    "\n",
    "print(f\"Multi-Head Attention 출력: {mha_output.shape}\")\n",
    "print(f\"Head 개수: {len(mha_weights)}\")\n",
    "print(f\"각 head는 다른 패턴을 학습함\")"
   ]
  },
  {
   "cell_type": "markdown",
   "metadata": {},
   "source": [
    "## 9. 각 Head가 학습하는 패턴 시각화"
   ]
  },
  {
   "cell_type": "code",
   "execution_count": 21,
   "metadata": {},
   "outputs": [
    {
     "data": {
      "image/png": "[encoded data removed]",
      "text/plain": [
       "<Figure size 1600x400 with 4 Axes>"
      ]
     },
     "metadata": {},
     "output_type": "display_data"
    },
    {
     "name": "stdout",
     "output_type": "stream",
     "text": [
      "각 head는 다른 관계를 포착:\n",
      "- Head 1: 문법적 관계 (주어-동사)\n",
      "- Head 2: 의미적 관계 (명사들)\n",
      "- Head 3: 순서 관계 (인접 단어)\n",
      "- Head 4: 장거리 의존성\n"
     ]
    }
   ],
   "source": [
    "# 4개 head의 attention 패턴 비교\n",
    "fig, axes = plt.subplots(1, 4, figsize=(16, 4))\n",
    "\n",
    "for i, (ax, weights) in enumerate(zip(axes, mha_weights)):\n",
    "    im = ax.imshow(weights[0].detach().numpy(), cmap='Blues', vmin=0, vmax=1)\n",
    "    ax.set_title(f'Head {i+1}')\n",
    "    ax.set_xlabel('Key')\n",
    "    if i == 0:\n",
    "        ax.set_ylabel('Query')\n",
    "    ax.set_xticks(range(4))\n",
    "    ax.set_xticklabels(tokens)\n",
    "    ax.set_yticks(range(4))\n",
    "    ax.set_yticklabels(tokens)\n",
    "\n",
    "plt.suptitle('Different Attention Patterns in Each Head', fontsize=14)\n",
    "plt.tight_layout()\n",
    "plt.show()\n",
    "\n",
    "print(\"각 head는 다른 관계를 포착:\")\n",
    "print(\"- Head 1: 문법적 관계 (주어-동사)\")\n",
    "print(\"- Head 2: 의미적 관계 (명사들)\")\n",
    "print(\"- Head 3: 순서 관계 (인접 단어)\")\n",
    "print(\"- Head 4: 장거리 의존성\")"
   ]
  },
  {
   "cell_type": "markdown",
   "metadata": {},
   "source": [
    "## 💡 핵심 인사이트\n",
    "\n",
    "1. **Attention = 관계 학습**\n",
    "   - 각 토큰이 다른 토큰들과의 관계를 학습\n",
    "   - Query-Key 매칭으로 중요도 결정\n",
    "\n",
    "2. **Causal Masking = 미래 차단**\n",
    "   - GPT는 autoregressive: 이전 토큰만 보고 다음 예측\n",
    "   - 학습과 생성이 일치하도록 마스킹 필수\n",
    "\n",
    "3. **Multi-Head = 다양한 관점**\n",
    "   - 단일 attention은 한 가지 패턴만 학습\n",
    "   - 여러 head로 풍부한 표현 학습\n",
    "\n",
    "4. **스케일링 = 안정적 학습**\n",
    "   - √d_k로 나누어 gradient 안정화\n",
    "   - Softmax saturation 방지"
   ]
  },
  {
   "cell_type": "markdown",
   "metadata": {},
   "source": [
    "## 🚀 다음 단계\n",
    "\n",
    "이제 Self-Attention을 이해했으니:\n",
    "1. **02_building_gpt_block.ipynb**: Transformer Block 구성\n",
    "2. **03_text_generation.ipynb**: 텍스트 생성 과정 이해"
   ]
  }
 ],
 "metadata": {
  "kernelspec": {
   "display_name": "ai",
   "language": "python",
   "name": "python3"
  },
  "language_info": {
   "codemirror_mode": {
    "name": "ipython",
    "version": 3
   },
   "file_extension": ".py",
   "mimetype": "text/x-python",
   "name": "python",
   "nbconvert_exporter": "python",
   "pygments_lexer": "ipython3",
   "version": "3.11.7"
  }
 },
 "nbformat": 4,
 "nbformat_minor": 4
}
